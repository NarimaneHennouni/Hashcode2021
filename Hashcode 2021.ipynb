{
 "cells": [
  {
   "cell_type": "code",
   "execution_count": null,
   "metadata": {},
   "outputs": [],
   "source": [
    "import io\n",
    "import sys\n",
    "import copy\n",
    "\n",
    "def load_data(file_name):\n",
    "    data = {}\n",
    "    with io.open(file_name) as f:\n",
    "        books, libraries, days = f.readline()[:-1].split(\" \")\n",
    "        data[\"books_number\"] = int(books)\n",
    "        data[\"librs_number\"] = int(libraries)\n",
    "        data[\"days\"] = int(days)\n",
    "        data[\"books_scores\"] = {idx: int(val) for idx, val in enumerate(f.readline()[:-1].split(\" \"))}\n",
    "        data[\"librs\"] = {}\n",
    "        for lib in range(int(libraries)):\n",
    "            b, s, sh = f.readline()[:-1].split(\" \")\n",
    "            data[\"librs\"][lib] = {}\n",
    "            data[\"librs\"][lib][\"books\"] = int(b)\n",
    "            data[\"librs\"][lib][\"signup\"] = int(s)\n",
    "            data[\"librs\"][lib][\"ship\"] = int(sh)\n",
    "            data[\"librs\"][lib][\"books_ids\"] = [int(b) for b in f.readline()[:-1].split(\" \")]\n",
    "            temp_to_sort = [(idx, data[\"books_scores\"][idx]) for idx in data[\"librs\"][lib][\"books_ids\"]]\n",
    "            data[\"librs\"][lib][\"sorted_books_ids\"] = [j[0] for j in sorted(temp_to_sort, key=lambda x: x[1], reverse=True)]\n",
    "            data[\"librs\"][lib][\"total_score\"] = sum([data[\"books_scores\"][i] for i in data[\"librs\"][lib][\"books_ids\"]])\n",
    "    \n",
    "    return data"
   ]
  },
  {
   "cell_type": "code",
   "execution_count": null,
   "metadata": {},
   "outputs": [],
   "source": [
    " with open(out_file, \"w\") as wf:\n",
    "        if flag0:\n",
    "            count_libs -= 1\n",
    "        count_libs = sum([1 for l in output_dict if output_dict[l][\"books\"]])\n",
    "        wf.write(str(count_libs) + \"\\n\")\n",
    "        c = 0\n",
    "        for l in output_dict:\n",
    "            if output_dict[l][\"books\"]:\n",
    "                wf.write(str(l) + \" \" + str(output_dict[l][\"len\"]) + \"\\n\")\n",
    "                for shiped in output_dict[l][\"books\"]:\n",
    "                    wf.write(str(shiped) + \" \")\n",
    "                c += 1\n",
    "                if c < len(output_dict.keys()):\n",
    "                    wf.write(\"\\n\")"
   ]
  },
  {
   "cell_type": "code",
   "execution_count": null,
   "metadata": {},
   "outputs": [],
   "source": [
    "data_a = load_data(\"a_example.txt\")\n",
    "print(data_a)\n",
    "process(data_a, \"a_example.out\", flag0=False)"
   ]
  }
 ],
 "metadata": {
  "kernelspec": {
   "display_name": "Python 3",
   "language": "python",
   "name": "python3"
  }
 },
 "nbformat": 4,
 "nbformat_minor": 2
}
